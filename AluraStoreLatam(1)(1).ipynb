{
  "nbformat": 4,
  "nbformat_minor": 0,
  "metadata": {
    "colab": {
      "provenance": []
    },
    "kernelspec": {
      "name": "python3",
      "display_name": "Python 3"
    },
    "language_info": {
      "name": "python"
    }
  },
  "cells": [
    {
      "cell_type": "markdown",
      "source": [
        "### Importación de datos\n",
        "\n"
      ],
      "metadata": {
        "id": "RhEdWd9YUR6H"
      }
    },
    {
      "cell_type": "code",
      "source": [],
      "metadata": {
        "id": "jzyj0JlSZpCj"
      },
      "execution_count": 157,
      "outputs": []
    },
    {
      "cell_type": "code",
      "execution_count": 158,
      "metadata": {
        "id": "T3EvaeQ_INIL"
      },
      "outputs": [],
      "source": [
        "import pandas as pd\n",
        "import numpy as np\n",
        "\n",
        "url = \"https://raw.githubusercontent.com/alura-es-cursos/challenge1-data-science-latam/refs/heads/main/base-de-datos-challenge1-latam/tienda_1%20.csv\"\n",
        "url2 = \"https://raw.githubusercontent.com/alura-es-cursos/challenge1-data-science-latam/refs/heads/main/base-de-datos-challenge1-latam/tienda_2.csv\"\n",
        "url3 = \"https://raw.githubusercontent.com/alura-es-cursos/challenge1-data-science-latam/refs/heads/main/base-de-datos-challenge1-latam/tienda_3.csv\"\n",
        "url4 = \"https://raw.githubusercontent.com/alura-es-cursos/challenge1-data-science-latam/refs/heads/main/base-de-datos-challenge1-latam/tienda_4.csv\"\n",
        "\n",
        "np.set_printoptions(legacy='1.25')\n",
        "tienda = pd.read_csv(url)\n",
        "tienda2 = pd.read_csv(url2)\n",
        "tienda3 = pd.read_csv(url3)\n",
        "tienda4 = pd.read_csv(url4)"
      ]
    },
    {
      "cell_type": "markdown",
      "source": [
        "#1. Análisis de facturación\n",
        "\n"
      ],
      "metadata": {
        "id": "X62IW3KFUIYm"
      }
    },
    {
      "cell_type": "code",
      "source": [
        "df = pd.read_csv(url)\n",
        "df2=pd.read_csv(url2)\n",
        "df3=pd.read_csv(url3)\n",
        "df4=pd.read_csv(url4)\n",
        "\n",
        "columna_a_sumar = 'Precio'\n",
        "columna_costo = 'Costo de envío'\n",
        "\n",
        "suma1 = df[columna_a_sumar].sum()\n",
        "suma2 = df2[columna_a_sumar].sum()\n",
        "suma3 = df3[columna_a_sumar].sum()\n",
        "suma4 = df4[columna_a_sumar].sum()\n",
        "\n",
        "costo1 = df[columna_costo].sum()\n",
        "costo2 = df2[columna_costo].sum()\n",
        "costo3 = df3[columna_costo].sum()\n",
        "costo4 = df4[columna_costo].sum()\n",
        "\n",
        "ganancia1 = int(float(suma1)) - int(float(costo1))\n",
        "ganancia2 = int(float(suma2)) - int(float(costo2))\n",
        "ganancia3 = int(float(suma3)) - int(float(costo3))\n",
        "ganancia4 = int(float(suma4)) - int(float(costo4))\n",
        "\n",
        "print(\"Primera tienda 'Precio':\", suma1, 'Costo total envío:', costo1, 'Ganancia total:', \"{:,}\".format(ganancia1))\n",
        "print(\"Segunda tienda 'Precio':\", suma2, 'Costo total envío:', costo2, 'Ganancia total:', \"{:,}\".format(ganancia2))\n",
        "print(\"Tercera tienda 'Precio':\", suma3, 'Costo total envío:', costo3, 'Ganancia total:', \"{:,}\".format(ganancia3))\n",
        "print(\"Cuarta tienda 'Precio':\", suma4, 'Costo total envío:', costo4, 'Ganancia total:', \"{:,}\".format(ganancia4))"
      ],
      "metadata": {
        "id": "xykobSftV64I",
        "colab": {
          "base_uri": "https://localhost:8080/"
        },
        "outputId": "14cb3650-6c13-4018-d8ac-adacfa51a615"
      },
      "execution_count": 159,
      "outputs": [
        {
          "output_type": "stream",
          "name": "stdout",
          "text": [
            "Primera tienda 'Precio': 1150880400.0 Costo total envío: 61377900.0 Ganancia total: 1,089,502,500\n",
            "Segunda tienda 'Precio': 1116343500.0 Costo total envío: 59485100.0 Ganancia total: 1,056,858,400\n",
            "Tercera tienda 'Precio': 1098019600.0 Costo total envío: 58516600.0 Ganancia total: 1,039,503,000\n",
            "Cuarta tienda 'Precio': 1038375700.0 Costo total envío: 55317400.0 Ganancia total: 983,058,300\n"
          ]
        }
      ]
    },
    {
      "cell_type": "code",
      "source": [
        "df.set_index('Categoría del Producto', inplace=True)"
      ],
      "metadata": {
        "id": "vyIN0AHBbmuX"
      },
      "execution_count": 160,
      "outputs": []
    },
    {
      "cell_type": "code",
      "source": [
        "listacategorias=tienda['Categoría del Producto'].drop_duplicates().tolist()\n",
        "listacategorias"
      ],
      "metadata": {
        "colab": {
          "base_uri": "https://localhost:8080/"
        },
        "id": "7WZTDKBcbmWc",
        "outputId": "6b6bf62c-d636-4124-ec9a-c033771734b6"
      },
      "execution_count": 161,
      "outputs": [
        {
          "output_type": "execute_result",
          "data": {
            "text/plain": [
              "['Electrónicos',\n",
              " 'Muebles',\n",
              " 'Juguetes',\n",
              " 'Electrodomésticos',\n",
              " 'Artículos para el hogar',\n",
              " 'Deportes y diversión',\n",
              " 'Libros',\n",
              " 'Instrumentos musicales']"
            ]
          },
          "metadata": {},
          "execution_count": 161
        }
      ]
    },
    {
      "cell_type": "markdown",
      "source": [
        "# 2. Ventas por categoría"
      ],
      "metadata": {
        "id": "2V_vcAPzWZmR"
      }
    },
    {
      "cell_type": "code",
      "source": [
        "print('Los valores de la primera tienda:')\n",
        "\n",
        "ass0=df.loc['Electrónicos']\n",
        "precio_electronico='Precio'\n",
        "ventaelectronico=ass0[precio_electronico].sum()\n",
        "costo_electronico='Costo de envío'\n",
        "costototal_electronico=ass0[costo_electronico].sum()\n",
        "total_electronico=ventaelectronico-costototal_electronico\n",
        "print(\"El total de venta de Electrónicos es:\", \"{:,}\".format(total_electronico))\n",
        "\n",
        "ass=df.loc['Muebles']\n",
        "precio_muebles='Precio'\n",
        "ventamuebles=ass[precio_muebles].sum()\n",
        "costo_muebles='Costo de envío'\n",
        "costototal_muebles=ass[costo_muebles].sum()\n",
        "total_muebles=ventamuebles-costototal_muebles\n",
        "print(\"El total de venta de Muebles es:\", \"{:,}\".format(total_muebles))\n",
        "\n",
        "ass1=df.loc['Juguetes']\n",
        "precio_juguetes='Precio'\n",
        "ventajuguetes=ass1[precio_juguetes].sum()\n",
        "costo_juguetes='Costo de envío'\n",
        "costototal_juguetes=ass1[costo_juguetes].sum()\n",
        "total_juguetes=ventajuguetes-costototal_juguetes\n",
        "print(\"El total de venta de Juguetes es:\", \"{:,}\".format(total_juguetes))\n",
        "\n",
        "ass2=df.loc['Electrodomésticos']\n",
        "precio_electrodomesticos='Precio'\n",
        "ventaelectrodomesticos=ass2[precio_electrodomesticos].sum()\n",
        "costo_electrodomesticos='Costo de envío'\n",
        "costototal_electrodomesticos=ass2[costo_electrodomesticos].sum()\n",
        "total_electrodomesticos=ventaelectrodomesticos-costototal_electrodomesticos\n",
        "print(\"El total de venta de Electrodomésticos es:\", \"{:,}\".format(total_electrodomesticos))\n",
        "\n",
        "ass3=df.loc['Artículos para el hogar']\n",
        "precio_hogar='Precio'\n",
        "ventahogar=ass3[precio_hogar].sum()\n",
        "costo_hogar='Costo de envío'\n",
        "costototal_hogar=ass3[costo_hogar].sum()\n",
        "total_hogar=ventahogar-costototal_hogar\n",
        "print(\"El total de venta de Artículos de hogar es:\", \"{:,}\".format(total_hogar))\n",
        "\n",
        "ass4=df.loc['Deportes y diversión']\n",
        "precio_deporte='Precio'\n",
        "ventadeporte=ass4[precio_deporte].sum()\n",
        "costo_deporte='Costo de envío'\n",
        "costototal_deporte=ass4[costo_deporte].sum()\n",
        "total_deporte=ventadeporte-costototal_deporte\n",
        "print(\"El total de venta de Deportes y diversión es:\", \"{:,}\".format(total_deporte))\n",
        "\n",
        "ass5=df.loc['Libros']\n",
        "precio_libro='Precio'\n",
        "ventalibro=ass5[precio_libro].sum()\n",
        "costo_libro='Costo de envío'\n",
        "costototal_libro=ass5[costo_libro].sum()\n",
        "total_libro=ventalibro-costototal_libro\n",
        "print(\"El total de venta de Libros es:\", \"{:,}\".format(total_libro))\n",
        "\n",
        "ass6=df.loc['Instrumentos musicales']\n",
        "precio_music='Precio'\n",
        "ventamusic=ass6[precio_music].sum()\n",
        "costo_music='Costo de envío'\n",
        "costototal_music=ass6[costo_music].sum()\n",
        "total_music=ventamusic-costototal_music\n",
        "print(\"El total de venta de Instrumentos musicales es:\", \"{:,}\".format(total_music))\n",
        "total_primera = np.sum(total_electronico+total_muebles+total_juguetes+total_electrodomesticos+total_hogar+total_deporte+total_libro+total_music)\n",
        "print(\"El total de la primera tienda es: \", \"{:,}\".format(total_primera))"
      ],
      "metadata": {
        "colab": {
          "base_uri": "https://localhost:8080/"
        },
        "id": "C2CzM4twiYk8",
        "outputId": "d54bb137-8bd4-48af-f822-f5f3d315fdd7"
      },
      "execution_count": 162,
      "outputs": [
        {
          "output_type": "stream",
          "name": "stdout",
          "text": [
            "Los valores de la primera tienda:\n",
            "El total de venta de Electrónicos es: 406,529,800.0\n",
            "El total de venta de Muebles es: 177,638,800.0\n",
            "El total de venta de Juguetes es: 17,016,200.0\n",
            "El total de venta de Electrodomésticos es: 344,361,200.0\n",
            "El total de venta de Artículos de hogar es: 12,054,600.0\n",
            "El total de venta de Deportes y diversión es: 37,168,900.0\n",
            "El total de venta de Libros es: 8,317,900.0\n",
            "El total de venta de Instrumentos musicales es: 86,415,100.0\n",
            "El total de la primera tienda es:  1,089,502,500.0\n"
          ]
        }
      ]
    },
    {
      "cell_type": "code",
      "source": [
        "df2.set_index('Categoría del Producto', inplace=True)\n",
        "listacategorias2=tienda2['Categoría del Producto'].drop_duplicates().tolist()\n",
        "print('Los valores de la segunda tienda:')\n",
        "\n",
        "ass02=df2.loc['Electrónicos']\n",
        "precio_electronico02='Precio'\n",
        "ventaelectronico02=ass02[precio_electronico02].sum()\n",
        "costo_electronico02='Costo de envío'\n",
        "costototal_electronico02=ass02[costo_electronico02].sum()\n",
        "total_electronico02=ventaelectronico02-costototal_electronico02\n",
        "print(\"El total de venta de Electrónicos es:\", \"{:,}\".format(total_electronico02))\n",
        "\n",
        "ass03=df2.loc['Muebles']\n",
        "precio_muebles03='Precio'\n",
        "ventamuebles03=ass03[precio_muebles03].sum()\n",
        "costo_muebles03='Costo de envío'\n",
        "costototal_muebles03=ass03[costo_muebles03].sum()\n",
        "total_muebles03=ventamuebles03-costototal_muebles03\n",
        "print(\"El total de venta de Muebles es:\", \"{:,}\".format(total_muebles03))\n",
        "\n",
        "ass04=df2.loc['Juguetes']\n",
        "precio_juguetes04='Precio'\n",
        "ventajuguetes04=ass04[precio_juguetes04].sum()\n",
        "costo_juguetes04='Costo de envío'\n",
        "costototal_juguetes04=ass04[costo_juguetes04].sum()\n",
        "total_juguetes04=ventajuguetes04-costototal_juguetes04\n",
        "print(\"El total de venta de Juguetes es:\", \"{:,}\".format(total_juguetes04))\n",
        "\n",
        "ass05=df2.loc['Electrodomésticos']\n",
        "precio_electrodomesticos05='Precio'\n",
        "ventaelectrodomesticos05=ass05[precio_electrodomesticos05].sum()\n",
        "costo_electrodomesticos05='Costo de envío'\n",
        "costototal_electrodomesticos05=ass05[costo_electrodomesticos05].sum()\n",
        "total_electrodomesticos05=ventaelectrodomesticos05-costototal_electrodomesticos05\n",
        "print(\"El total de venta de Electrodomésticos es:\", \"{:,}\".format(total_electrodomesticos05))\n",
        "\n",
        "ass06=df2.loc['Artículos para el hogar']\n",
        "precio_hogar06='Precio'\n",
        "ventahogar06=ass06[precio_hogar06].sum()\n",
        "costo_hogar06='Costo de envío'\n",
        "costototal_hogar06=ass06[costo_hogar06].sum()\n",
        "total_hogar06=ventahogar06-costototal_hogar06\n",
        "print(\"El total de venta de Artículos de hogar es:\", \"{:,}\".format(total_hogar06))\n",
        "\n",
        "ass07=df2.loc['Deportes y diversión']\n",
        "precio_deporte07='Precio'\n",
        "ventadeporte07=ass07[precio_deporte07].sum()\n",
        "costo_deporte07='Costo de envío'\n",
        "costototal_deporte07=ass07[costo_deporte07].sum()\n",
        "total_deporte07=ventadeporte07-costototal_deporte07\n",
        "print(\"El total de venta de Deportes y diversión es:\", \"{:,}\".format(total_deporte07))\n",
        "\n",
        "ass08=df2.loc['Libros']\n",
        "precio_libro08='Precio'\n",
        "ventalibro08=ass08[precio_libro08].sum()\n",
        "costo_libro08='Costo de envío'\n",
        "costototal_libro08=ass08[costo_libro08].sum()\n",
        "total_libro08=ventalibro08-costototal_libro08\n",
        "print(\"El total de venta de Libros es:\", \"{:,}\".format(total_libro08))\n",
        "\n",
        "ass09=df2.loc['Instrumentos musicales']\n",
        "precio_music09='Precio'\n",
        "ventamusic09=ass09[precio_music09].sum()\n",
        "costo_music09='Costo de envío'\n",
        "costototal_music09=ass09[costo_music09].sum()\n",
        "total_music09=ventamusic09-costototal_music09\n",
        "print(\"El total de venta de Instrumentos musicales es:\", \"{:,}\".format(total_music09))\n",
        "total_primera2 = np.sum(total_electronico02+total_muebles03+total_juguetes04+total_electrodomesticos05+total_hogar06+total_deporte07+total_libro08+total_music09)\n",
        "print(\"El total de la segunda tienda es: \", \"{:,}\".format(total_primera2))"
      ],
      "metadata": {
        "id": "A34YupIuYhfF",
        "colab": {
          "base_uri": "https://localhost:8080/"
        },
        "outputId": "bebd30f3-a3a8-44c1-94b9-92db0581ad34"
      },
      "execution_count": 163,
      "outputs": [
        {
          "output_type": "stream",
          "name": "stdout",
          "text": [
            "Los valores de la segunda tienda:\n",
            "El total de venta de Electrónicos es: 389,016,900.0\n",
            "El total de venta de Muebles es: 166,990,200.0\n",
            "El total de venta de Juguetes es: 15,057,800.0\n",
            "El total de venta de Electrodomésticos es: 330,012,200.0\n",
            "El total de venta de Artículos de hogar es: 13,946,100.0\n",
            "El total de venta de Deportes y diversión es: 32,867,200.0\n",
            "El total de venta de Libros es: 9,535,400.0\n",
            "El total de venta de Instrumentos musicales es: 99,432,600.0\n",
            "El total de la segunda tienda es:  1,056,858,400.0\n"
          ]
        }
      ]
    },
    {
      "cell_type": "markdown",
      "source": [
        "# 3. Calificación promedio de la tienda\n"
      ],
      "metadata": {
        "id": "Rq6tU_xSY3jk"
      }
    },
    {
      "cell_type": "code",
      "source": [
        "df3.set_index('Categoría del Producto', inplace=True)\n",
        "listacategorias3=tienda3['Categoría del Producto'].drop_duplicates().tolist()\n",
        "print('Los valores de la tercera tienda:')\n",
        "\n",
        "ass10=df3.loc['Electrónicos']\n",
        "precio_electronico10='Precio'\n",
        "ventaelectronico10=ass10[precio_electronico10].sum()\n",
        "costo_electronico10='Costo de envío'\n",
        "costototal_electronico10=ass10[costo_electronico10].sum()\n",
        "total_electronico10=ventaelectronico10-costototal_electronico10\n",
        "print(\"El total de venta de Electrónicos es:\", \"{:,}\".format(total_electronico10))\n",
        "\n",
        "ass11=df3.loc['Muebles']\n",
        "precio_muebles11='Precio'\n",
        "ventamuebles11=ass11[precio_muebles11].sum()\n",
        "costo_muebles11='Costo de envío'\n",
        "costototal_muebles11=ass11[costo_muebles11].sum()\n",
        "total_muebles11=ventamuebles11-costototal_muebles11\n",
        "print(\"El total de venta de Muebles es:\", \"{:,}\".format(total_muebles11))\n",
        "\n",
        "ass12=df3.loc['Juguetes']\n",
        "precio_juguetes12='Precio'\n",
        "ventajuguetes12=ass12[precio_juguetes12].sum()\n",
        "costo_juguetes12='Costo de envío'\n",
        "costototal_juguetes12=ass12[costo_juguetes12].sum()\n",
        "total_juguetes12=ventajuguetes12-costototal_juguetes12\n",
        "print(\"El total de venta de Juguetes es:\", \"{:,}\".format(total_juguetes12))\n",
        "\n",
        "ass13=df3.loc['Electrodomésticos']\n",
        "precio_electrodomesticos13='Precio'\n",
        "ventaelectrodomesticos13=ass13[precio_electrodomesticos13].sum()\n",
        "costo_electrodomesticos13='Costo de envío'\n",
        "costototal_electrodomesticos13=ass13[costo_electrodomesticos13].sum()\n",
        "total_electrodomesticos13=ventaelectrodomesticos13-costototal_electrodomesticos13\n",
        "print(\"El total de venta de Electrodomésticos es:\", \"{:,}\".format(total_electrodomesticos13))\n",
        "\n",
        "ass14=df3.loc['Artículos para el hogar']\n",
        "precio_hogar14='Precio'\n",
        "ventahogar14=ass14[precio_hogar14].sum()\n",
        "costo_hogar14='Costo de envío'\n",
        "costototal_hogar14=ass14[costo_hogar14].sum()\n",
        "total_hogar14=ventahogar14-costototal_hogar14\n",
        "print(\"El total de venta de Artículos de hogar es:\", \"{:,}\".format(total_hogar14))\n",
        "\n",
        "ass15=df3.loc['Deportes y diversión']\n",
        "precio_deporte15='Precio'\n",
        "ventadeporte15=ass15[precio_deporte15].sum()\n",
        "costo_deporte15='Costo de envío'\n",
        "costototal_deporte15=ass15[costo_deporte15].sum()\n",
        "total_deporte15=ventadeporte15-costototal_deporte15\n",
        "print(\"El total de venta de Deportes y diversión es:\", \"{:,}\".format(total_deporte15))\n",
        "\n",
        "ass16=df3.loc['Libros']\n",
        "precio_libro16='Precio'\n",
        "ventalibro16=ass16[precio_libro16].sum()\n",
        "costo_libro16='Costo de envío'\n",
        "costototal_libro16=ass16[costo_libro16].sum()\n",
        "total_libro16=ventalibro16-costototal_libro16\n",
        "print(\"El total de venta de Libros es:\", \"{:,}\".format(total_libro16))\n",
        "\n",
        "ass17=df3.loc['Instrumentos musicales']\n",
        "precio_music17='Precio'\n",
        "ventamusic17=ass17[precio_music17].sum()\n",
        "costo_music17='Costo de envío'\n",
        "costototal_music17=ass17[costo_music17].sum()\n",
        "total_music17=ventamusic17-costototal_music17\n",
        "print(\"El total de venta de Instrumentos musicales es:\", \"{:,}\".format(total_music17))\n",
        "total_primera3 = np.sum(total_electronico10+total_muebles11+total_juguetes12+total_electrodomesticos13+total_hogar14+total_deporte15+total_libro16+total_music17)\n",
        "print(\"El total de la tercera tienda es: \", \"{:,}\".format(total_primera3))"
      ],
      "metadata": {
        "id": "yZR6cOjXYSk1",
        "colab": {
          "base_uri": "https://localhost:8080/"
        },
        "outputId": "4f104d0a-ea0b-4130-c848-e3859bf9215f"
      },
      "execution_count": 164,
      "outputs": [
        {
          "output_type": "stream",
          "name": "stdout",
          "text": [
            "Los valores de la tercera tienda:\n",
            "El total de venta de Electrónicos es: 388,919,900.0\n",
            "El total de venta de Muebles es: 190,288,000.0\n",
            "El total de venta de Juguetes es: 18,359,400.0\n",
            "El total de venta de Electrodomésticos es: 311,743,700.0\n",
            "El total de venta de Artículos de hogar es: 14,247,600.0\n",
            "El total de venta de Deportes y diversión es: 33,670,000.0\n",
            "El total de venta de Libros es: 9,002,300.0\n",
            "El total de venta de Instrumentos musicales es: 73,272,100.0\n",
            "El total de la tercera tienda es:  1,039,503,000.0\n"
          ]
        }
      ]
    },
    {
      "cell_type": "code",
      "source": [
        "df4.set_index('Categoría del Producto', inplace=True)\n",
        "listacategorias4=tienda4['Categoría del Producto'].drop_duplicates().tolist()\n",
        "print('Los valores de la cuarta tienda:')\n",
        "\n",
        "ass18=df4.loc['Electrónicos']\n",
        "precio_electronico18='Precio'\n",
        "ventaelectronico18=ass18[precio_electronico18].sum()\n",
        "costo_electronico18='Costo de envío'\n",
        "costototal_electronico18=ass18[costo_electronico18].sum()\n",
        "total_electronico18=ventaelectronico18-costototal_electronico18\n",
        "print(\"El total de venta de Electrónicos es:\", \"{:,}\".format(total_electronico18))\n",
        "\n",
        "ass19=df4.loc['Muebles']\n",
        "precio_muebles19='Precio'\n",
        "ventamuebles19=ass19[precio_muebles19].sum()\n",
        "costo_muebles19='Costo de envío'\n",
        "costototal_muebles19=ass19[costo_muebles19].sum()\n",
        "total_muebles19=ventamuebles19-costototal_muebles19\n",
        "print(\"El total de venta de Muebles es:\", \"{:,}\".format(total_muebles19))\n",
        "\n",
        "ass20=df4.loc['Juguetes']\n",
        "precio_juguetes20='Precio'\n",
        "ventajuguetes20=ass20[precio_juguetes20].sum()\n",
        "costo_juguetes20='Costo de envío'\n",
        "costototal_juguetes20=ass20[costo_juguetes20].sum()\n",
        "total_juguetes20=ventajuguetes20-costototal_juguetes20\n",
        "print(\"El total de venta de Juguetes es:\", \"{:,}\".format(total_juguetes20))\n",
        "\n",
        "ass21=df4.loc['Electrodomésticos']\n",
        "precio_electrodomesticos21='Precio'\n",
        "ventaelectrodomesticos21=ass21[precio_electrodomesticos21].sum()\n",
        "costo_electrodomesticos21='Costo de envío'\n",
        "costototal_electrodomesticos21=ass21[costo_electrodomesticos21].sum()\n",
        "total_electrodomesticos21=ventaelectrodomesticos21-costototal_electrodomesticos21\n",
        "print(\"El total de venta de Electrodomésticos es:\", \"{:,}\".format(total_electrodomesticos21))\n",
        "\n",
        "ass22=df4.loc['Artículos para el hogar']\n",
        "precio_hogar22='Precio'\n",
        "ventahogar22=ass22[precio_hogar22].sum()\n",
        "costo_hogar22='Costo de envío'\n",
        "costototal_hogar22=ass22[costo_hogar22].sum()\n",
        "total_hogar22=ventahogar22-costototal_hogar22\n",
        "print(\"El total de venta de Artículos de hogar es:\", \"{:,}\".format(total_hogar22))\n",
        "\n",
        "ass23=df4.loc['Deportes y diversión']\n",
        "precio_deporte23='Precio'\n",
        "ventadeporte23=ass23[precio_deporte23].sum()\n",
        "costo_deporte23='Costo de envío'\n",
        "costototal_deporte23=ass23[costo_deporte23].sum()\n",
        "total_deporte23=ventadeporte23-costototal_deporte23\n",
        "print(\"El total de venta de Deportes y diversión es:\", \"{:,}\".format(total_deporte23))\n",
        "\n",
        "ass24=df4.loc['Libros']\n",
        "precio_libro24='Precio'\n",
        "ventalibro24=ass24[precio_libro24].sum()\n",
        "costo_libro24='Costo de envío'\n",
        "costototal_libro24=ass24[costo_libro24].sum()\n",
        "total_libro24=ventalibro24-costototal_libro24\n",
        "print(\"El total de venta de Libros es:\", \"{:,}\".format(total_libro24))\n",
        "\n",
        "ass25=df4.loc['Instrumentos musicales']\n",
        "precio_music25='Precio'\n",
        "ventamusic25=ass25[precio_music25].sum()\n",
        "costo_music25='Costo de envío'\n",
        "costototal_music25=ass25[costo_music25].sum()\n",
        "total_music25=ventamusic25-costototal_music25\n",
        "print(\"El total de venta de Instrumentos musicales es:\", \"{:,}\".format(total_music25))\n",
        "total_primera4 = np.sum(total_electronico18+total_muebles19+total_juguetes20+total_electrodomesticos21+total_hogar22+total_deporte23+total_libro24+total_music25)\n",
        "print(\"El total de la cuarta tienda es: \", \"{:,}\".format(total_primera4))"
      ],
      "metadata": {
        "id": "bh3jjjJwY5MU",
        "colab": {
          "base_uri": "https://localhost:8080/"
        },
        "outputId": "56cefc20-1554-4c93-f62e-2b163caa61d1"
      },
      "execution_count": 165,
      "outputs": [
        {
          "output_type": "stream",
          "name": "stdout",
          "text": [
            "Los valores de la cuarta tienda:\n",
            "El total de venta de Electrónicos es: 387,647,800.0\n",
            "El total de venta de Muebles es: 182,293,600.0\n",
            "El total de venta de Juguetes es: 19,149,700.0\n",
            "El total de venta de Electrodomésticos es: 268,237,700.0\n",
            "El total de venta de Artículos de hogar es: 14,220,400.0\n",
            "El total de venta de Deportes y diversión es: 31,580,000.0\n",
            "El total de venta de Libros es: 8,780,600.0\n",
            "El total de venta de Instrumentos musicales es: 71,148,500.0\n",
            "El total de la cuarta tienda es:  983,058,300.0\n"
          ]
        }
      ]
    },
    {
      "cell_type": "markdown",
      "source": [
        "# 4. Productos más y menos vendidos"
      ],
      "metadata": {
        "id": "DmNp1KPBZCm-"
      }
    },
    {
      "cell_type": "code",
      "source": [
        "tiendamax= tienda[\"Producto\"].value_counts()\n",
        "t1m= tiendamax.head(1)\n",
        "print(\"El producto más vendido de la primera tienda es: \", (t1m))\n",
        "tiendamin= tienda[\"Producto\"].value_counts()\n",
        "t1min= tiendamin.tail(1)\n",
        "print(\"El producto menos vendido de la primera tienda es: \", (t1min))"
      ],
      "metadata": {
        "id": "qoyjqijQZHfF",
        "colab": {
          "base_uri": "https://localhost:8080/"
        },
        "outputId": "ff578b99-7ffd-455a-ba73-73308a3eb030"
      },
      "execution_count": 166,
      "outputs": [
        {
          "output_type": "stream",
          "name": "stdout",
          "text": [
            "El producto más vendido de la primera tienda es:  Producto\n",
            "Microondas    60\n",
            "Name: count, dtype: int64\n",
            "El producto menos vendido de la primera tienda es:  Producto\n",
            "Celular ABXY    33\n",
            "Name: count, dtype: int64\n"
          ]
        }
      ]
    },
    {
      "cell_type": "code",
      "source": [
        "tiendamax2= tienda2[\"Producto\"].value_counts()\n",
        "t2m= tiendamax2.head(1)\n",
        "print(\"El producto más vendido de la segunda tienda es: \", (t2m))\n",
        "tiendamin2= tienda2[\"Producto\"].value_counts()\n",
        "t2min= tiendamin2.tail(1)\n",
        "print(\"El producto menos vendido de la segunda tienda es: \", (t2min))"
      ],
      "metadata": {
        "id": "0Sw3sd4IZIGW",
        "colab": {
          "base_uri": "https://localhost:8080/"
        },
        "outputId": "08cf6564-717c-4809-abe9-fd0e911e5cfe"
      },
      "execution_count": 167,
      "outputs": [
        {
          "output_type": "stream",
          "name": "stdout",
          "text": [
            "El producto más vendido de la segunda tienda es:  Producto\n",
            "Iniciando en programación    65\n",
            "Name: count, dtype: int64\n",
            "El producto menos vendido de la segunda tienda es:  Producto\n",
            "Juego de mesa    32\n",
            "Name: count, dtype: int64\n"
          ]
        }
      ]
    },
    {
      "cell_type": "code",
      "source": [
        "tiendamax3= tienda3[\"Producto\"].value_counts()\n",
        "t3m= tiendamax3.head(1)\n",
        "print(\"El producto más vendido de la tercera tienda es: \", (t3m))\n",
        "tiendamin3= tienda3[\"Producto\"].value_counts()\n",
        "t3min= tiendamin3.tail(1)\n",
        "print(\"El producto menos vendido de la tercera tienda es: \", (t3min))"
      ],
      "metadata": {
        "id": "S2JeaCykZNy9",
        "colab": {
          "base_uri": "https://localhost:8080/"
        },
        "outputId": "ed776335-68f4-4864-816f-3e31171c63c9"
      },
      "execution_count": 168,
      "outputs": [
        {
          "output_type": "stream",
          "name": "stdout",
          "text": [
            "El producto más vendido de la tercera tienda es:  Producto\n",
            "Kit de bancas    57\n",
            "Name: count, dtype: int64\n",
            "El producto menos vendido de la tercera tienda es:  Producto\n",
            "Bloques de construcción    35\n",
            "Name: count, dtype: int64\n"
          ]
        }
      ]
    },
    {
      "cell_type": "code",
      "source": [
        "tiendamax4= tienda4[\"Producto\"].value_counts()\n",
        "t4m= tiendamax4.head(1)\n",
        "print(\"El producto más vendido de la cuarta tienda es: \", (t4m))\n",
        "tiendamin4= tienda4[\"Producto\"].value_counts()\n",
        "t4min= tiendamin4.tail(1)\n",
        "print(\"El producto menos vendido de la cuarta tienda es: \", (t4min))"
      ],
      "metadata": {
        "id": "0tSdCie9ZQlt",
        "colab": {
          "base_uri": "https://localhost:8080/"
        },
        "outputId": "19a98253-dc44-4e60-d076-fc87f4c52495"
      },
      "execution_count": 169,
      "outputs": [
        {
          "output_type": "stream",
          "name": "stdout",
          "text": [
            "El producto más vendido de la cuarta tienda es:  Producto\n",
            "Cama box    62\n",
            "Name: count, dtype: int64\n",
            "El producto menos vendido de la cuarta tienda es:  Producto\n",
            "Guitarra eléctrica    33\n",
            "Name: count, dtype: int64\n"
          ]
        }
      ]
    },
    {
      "cell_type": "markdown",
      "source": [
        "# 5. Envío promedio por tienda"
      ],
      "metadata": {
        "id": "Fl0cGi3bZKqU"
      }
    },
    {
      "cell_type": "code",
      "source": [
        "mean1 = df[columna_costo].mean()\n",
        "print(f\"El envío promedio de la primera tienda es: {mean1:.2f}\")\n",
        "mean2 = df2[columna_costo].mean()\n",
        "print(f\"El envío promedio de la segunda tienda es: {mean2:.2f}\")\n",
        "mean3 = df3[columna_costo].mean()\n",
        "print(f\"El envío promedio de la tercera tienda es: {mean3:.2f}\")\n",
        "mean4 = df4[columna_costo].mean()\n",
        "print(f\"El envío promedio de la cuarta tienda es: {mean4:.2f}\")"
      ],
      "metadata": {
        "colab": {
          "base_uri": "https://localhost:8080/"
        },
        "id": "zmvGhCFRWocV",
        "outputId": "081456f6-75aa-44f8-f8df-075edb9a662b"
      },
      "execution_count": 170,
      "outputs": [
        {
          "output_type": "stream",
          "name": "stdout",
          "text": [
            "El envío promedio de la primera tienda es: 26018.61\n",
            "El envío promedio de la segunda tienda es: 25216.24\n",
            "El envío promedio de la tercera tienda es: 24805.68\n",
            "El envío promedio de la cuarta tienda es: 23459.46\n"
          ]
        }
      ]
    },
    {
      "cell_type": "code",
      "source": [
        "print('La primera tienda resultó ser la más rentable, en cuanto a ganancia versus costos de envío; y el producto más vendido son Microondas \\nSe recomienda la inversión en la primera tienda')"
      ],
      "metadata": {
        "colab": {
          "base_uri": "https://localhost:8080/"
        },
        "id": "TllprKVwZ-Zk",
        "outputId": "5ef31864-3bad-4fef-efb0-8f9bf7e968f4"
      },
      "execution_count": 172,
      "outputs": [
        {
          "output_type": "stream",
          "name": "stdout",
          "text": [
            "La primera tienda resultó ser la más rentable, en cuanto a ganancia versus costos de envío; y el producto más vendido son Microondas \n",
            "Se recomienda la inversión en la primera tienda\n"
          ]
        }
      ]
    },
    {
      "cell_type": "code",
      "source": [],
      "metadata": {
        "id": "URtCQnufbXfq"
      },
      "execution_count": 170,
      "outputs": []
    }
  ]
}